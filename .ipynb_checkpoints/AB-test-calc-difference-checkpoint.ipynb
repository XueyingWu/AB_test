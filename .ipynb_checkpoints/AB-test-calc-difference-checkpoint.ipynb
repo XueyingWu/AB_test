{
 "cells": [
  {
   "cell_type": "markdown",
   "id": "4829a702-39b9-4ffa-8fb1-cfc0a9b5f022",
   "metadata": {},
   "source": [
    "# 🅰️🅱️ AB test notebook"
   ]
  },
  {
   "cell_type": "code",
   "execution_count": 19,
   "id": "e7a4bd8e-6a7b-4c00-bae7-4c516af054a8",
   "metadata": {
    "tags": []
   },
   "outputs": [],
   "source": [
    "import numpy as np\n",
    "import pandas as pd\n",
    "from scipy.stats import chisquare, chi2, norm\n",
    "import seaborn as sns"
   ]
  },
  {
   "cell_type": "code",
   "execution_count": 16,
   "id": "428d2ef8-e8a8-4643-a2fa-6c4cbf5eaa22",
   "metadata": {},
   "outputs": [
    {
     "name": "stdin",
     "output_type": "stream",
     "text": [
      "total user in the test \n",
      " 1000\n",
      "number of groups\n",
      " 2\n",
      "total user in the test \n",
      " 400\n",
      "total user in the variate \n",
      " 600\n"
     ]
    }
   ],
   "source": [
    "total_user = float(input('total user in the test \\n'))\n",
    "number_of_groups = float(input('number of groups\\n'))\n",
    "control = float(input('total user in the test \\n'))\n",
    "variate = float(input('total user in the variate \\n'))"
   ]
  },
  {
   "cell_type": "markdown",
   "id": "c4fb2c63-c8b3-46e1-93c5-33c8ac87e36b",
   "metadata": {},
   "source": [
    "### Check for Sample Ratio Mismatch (SRM)"
   ]
  },
  {
   "cell_type": "code",
   "execution_count": 17,
   "id": "c14987b0-0020-4e79-b5a6-3a1bbe5357d2",
   "metadata": {},
   "outputs": [],
   "source": [
    "observed = [control,variate]\n",
    "expected=[]\n",
    "for i in np.arange(0,number_of_groups):\n",
    "    expected.append(total_user/number_of_groups)"
   ]
  },
  {
   "cell_type": "code",
   "execution_count": 18,
   "id": "984046dc-cc84-46d5-8455-344b26f4a0a0",
   "metadata": {},
   "outputs": [
    {
     "name": "stdout",
     "output_type": "stream",
     "text": [
      "Warning. SRM may be present.\n"
     ]
    }
   ],
   "source": [
    "chi = chisquare(observed, f_exp=expected)\n",
    "if chi[1] < 0.01:\n",
    "    print('Warning. SRM may be present.')\n",
    "else:\n",
    "    print('Probably no SRM.')"
   ]
  },
  {
   "cell_type": "markdown",
   "id": "a35df0c2-6da9-4c9b-b57c-15c1d8ed1da4",
   "metadata": {},
   "source": [
    "### Compare Conversion"
   ]
  },
  {
   "cell_type": "code",
   "execution_count": 139,
   "id": "cf6b72a3-2259-4f61-9c76-53df28fb8b99",
   "metadata": {},
   "outputs": [
    {
     "name": "stdin",
     "output_type": "stream",
     "text": [
      "How many users in the control group?\n",
      " 6000\n",
      "\n",
      "How many users in the test group?\n",
      " 4000\n",
      "\n",
      "How many users converted in the control group?\n",
      " 90\n",
      "\n",
      "How many users converted in the test group?\n",
      " 80\n"
     ]
    }
   ],
   "source": [
    "c = float(input('How many users in the control group?\\n'))\n",
    "t = float(input('\\nHow many users in the test group?\\n'))\n",
    "c_c = float(input('\\nHow many users converted in the control group?\\n'))\n",
    "t_c = float(input('\\nHow many users converted in the test group?\\n'))"
   ]
  },
  {
   "cell_type": "code",
   "execution_count": null,
   "id": "bb806ce7-c0f3-4fe0-8016-3eba98ef1d6f",
   "metadata": {},
   "outputs": [],
   "source": [
    "#calculate conversion rate with confidence interval \n",
    "control_conversion = c_c/c\n",
    "test_conversion = t_c/c \n",
    "\n",
    "#Standard Error = SQRT {P*(1-P) / Sample Size}\n",
    "c_se =  np.sqrt(control_conversion*(1-control_conversion)/c)\n",
    "t_se =  np.sqrt(test_conversion*(1-test_conversion)/t)\n",
    "\n",
    "#conversion with 2se (95% confidence interval) \n",
    "control_conversion_lower = control_conversion - 2*c_se\n",
    "control_conversion_upper = control_conversion + 2*c_se\n",
    "\n",
    "test_conversion_lower = test_conversion - 2*t_se\n",
    "test_conversion_upper = test_conversion + 2*t_se"
   ]
  },
  {
   "cell_type": "code",
   "execution_count": null,
   "id": "e2ef5de7-8604-4128-9b4e-521121840792",
   "metadata": {},
   "outputs": [],
   "source": [
    "#add plot when have time"
   ]
  },
  {
   "cell_type": "code",
   "execution_count": 140,
   "id": "a6dce29d-8782-42ed-8256-fa5560da581f",
   "metadata": {},
   "outputs": [
    {
     "name": "stdout",
     "output_type": "stream",
     "text": [
      "No significant difference.\n"
     ]
    }
   ],
   "source": [
    "#p_hat is the average conversion rate among 2 groups of users \n",
    "p_hat=(c_c+t_c)/(c+t)\n",
    "O = np.array([c_c, t_c, c-c_c, t-t_c])\n",
    "T = np.array([c*p_hat, t*p_hat, c-c*p_hat, t-t*p_hat])\n",
    "D = np.sum(np.square(T-O)/T)\n",
    "pvalue = chi2.sf(D, df=1)\n",
    "#print(f\"distance d: {D}\\np-value: {pvalue}\")\n",
    "if pvalue < 0.05:\n",
    "    print('Statistically significant difference!')\n",
    "else:\n",
    "    print('No significant difference.')"
   ]
  },
  {
   "cell_type": "markdown",
   "id": "79cea679-23f9-47d5-9f43-08029689c38b",
   "metadata": {},
   "source": [
    "### Compare Mean"
   ]
  },
  {
   "cell_type": "code",
   "execution_count": 142,
   "id": "bb66cf4e-2e87-4803-af24-7ba7762befd9",
   "metadata": {},
   "outputs": [
    {
     "name": "stdin",
     "output_type": "stream",
     "text": [
      "How many users in the control group?\n",
      " 6000\n",
      "\n",
      "How many users in the control group?\n",
      " 4000\n",
      "\n",
      "What is the mean of control?\n",
      " 60\n",
      "\n",
      "What is the mean of test?\n",
      " 62\n",
      "\n",
      "What is the std of control?\n",
      " 40\n",
      "\n",
      "What is the std of test?\n",
      " 45\n"
     ]
    }
   ],
   "source": [
    "_c = float(input ('How many users in the control group?\\n' ))\n",
    "_t = float(input ('\\nHow many users in the control group?\\n' ))\n",
    "\n",
    "c_m = float(input ('\\nWhat is the mean of control?\\n' ))\n",
    "t_m = float(input ('\\nWhat is the mean of test?\\n' ))\n",
    "\n",
    "c_std = float(input ('\\nWhat is the std of control?\\n' ))\n",
    "t_std = float(input ('\\nWhat is the std of test?\\n' ))"
   ]
  },
  {
   "cell_type": "code",
   "execution_count": null,
   "id": "e3f84045-b487-44ea-bae0-f1c90f059ff7",
   "metadata": {},
   "outputs": [],
   "source": [
    "#standard error\n",
    "c_se_ =  c_std/np.sqrt(_c)\n",
    "t_se_ =  t_std/np.sqrt(_t)\n",
    "\n",
    "#only if sample is >1000, the z-value for 2-tailed 95% conifidence interval is 1.96, otherwise look up in the t Table \n",
    "control_mean_lower = c_m - 1.96*c_se_\n",
    "control_mean_upper = c_m + 1.96*c_se_\n",
    "\n",
    "test_mean_lower = t_m - 1.96*t_se_\n",
    "test_mean_upper = t_m + 1.96*t_se_"
   ]
  },
  {
   "cell_type": "code",
   "execution_count": null,
   "id": "eeb10ef6-e693-43ad-94d1-4efa74c189a3",
   "metadata": {},
   "outputs": [],
   "source": [
    "#add plot when have time"
   ]
  },
  {
   "cell_type": "code",
   "execution_count": 144,
   "id": "8c206dad-d299-4329-b37e-51aa6d63307c",
   "metadata": {},
   "outputs": [
    {
     "name": "stdout",
     "output_type": "stream",
     "text": [
      "Significant Different!\n"
     ]
    }
   ],
   "source": [
    "Z = (t_m - c_m)/np.sqrt(t_std**2/_t + c_std**2/_c)\n",
    "pvalue = norm.sf(Z)\n",
    "#print(\"Z-score: {0}\\np-value: {1}\".format(Z,pvalue))\n",
    "if pvalue < 0.05:\n",
    "    print('Statistically significant difference!')\n",
    "else:\n",
    "    print('No significant difference.')"
   ]
  },
  {
   "cell_type": "markdown",
   "id": "1702d986-a691-40ba-bb0b-e7d70bc6b252",
   "metadata": {},
   "source": [
    "Appendix"
   ]
  },
  {
   "cell_type": "code",
   "execution_count": null,
   "id": "0d96804b-2329-46ea-aebc-d20fb77a41d4",
   "metadata": {},
   "outputs": [],
   "source": [
    "#lh = Redshift()\n",
    "#exp_id = input ('Type in the exp_id\\n' )\n",
    "#date1 = input ('\\nType in start date, format: 2022-01-01\\n' )\n",
    "#date2 = input ('\\nType in end date, format: 2022-01-01\\n' )"
   ]
  },
  {
   "cell_type": "code",
   "execution_count": null,
   "id": "002933b6-1b84-4830-b7f2-5c16953a4873",
   "metadata": {},
   "outputs": [],
   "source": [
    "# Please remember to update the SQL code. \n",
    "#df = lh.run_query(\n",
    "#\n",
    "#   f\"COMMIT;\"\n",
    "#    \n",
    "#   f\"select min(date_trunc('day', occurred_at)::date) as first_allocation_time,variate_name,persona_id  from \"\n",
    "#    f\" bip_experiment_us_5y.experimentation_events\"\n",
    "#    f\" where experiment_id = '{exp_id}' \"\n",
    "#    f\" and app_release_flavor = 'pink' \"\n",
    "#    f\" and experimentation_market = 'US'\"\n",
    "#    f\" and md_gdpr_access_control_date between '{date1}' and '{date2}'\"\n",
    "#    f\" group by 2,3\"\n",
    "#    f\" limit 100000\"\n",
    "#);"
   ]
  },
  {
   "cell_type": "code",
   "execution_count": null,
   "id": "2c617a4c-46b2-45d6-815c-52680d5c77b9",
   "metadata": {},
   "outputs": [],
   "source": [
    "#total_user = df.count()['persona_id']\n",
    "#variate = df.groupby('variate_name',as_index=True ).count()['persona_id']"
   ]
  }
 ],
 "metadata": {
  "kernelspec": {
   "display_name": "Python 3 (ipykernel)",
   "language": "python",
   "name": "python3"
  },
  "language_info": {
   "codemirror_mode": {
    "name": "ipython",
    "version": 3
   },
   "file_extension": ".py",
   "mimetype": "text/x-python",
   "name": "python",
   "nbconvert_exporter": "python",
   "pygments_lexer": "ipython3",
   "version": "3.9.12"
  }
 },
 "nbformat": 4,
 "nbformat_minor": 5
}
