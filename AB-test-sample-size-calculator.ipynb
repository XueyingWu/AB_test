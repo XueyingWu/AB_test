{
 "cells": [
  {
   "cell_type": "markdown",
   "id": "67a70c00-e637-435f-9f20-e9082f4e4433",
   "metadata": {},
   "source": [
    "# 🅰️🅱️ AB test notebook"
   ]
  },
  {
   "cell_type": "markdown",
   "id": "d38258dc-b435-4a04-b73e-a6204dfac679",
   "metadata": {
    "tags": []
   },
   "source": [
    "### Sample size calculator - for Conversion"
   ]
  },
  {
   "cell_type": "markdown",
   "id": "55e8f1de-6354-45e8-a2c1-a879acc15594",
   "metadata": {},
   "source": [
    "##### Power analysis is commonly used for sample size calculation in hypothesis testing. We need 4 parameters:\n",
    "##### 1. Significance level (α) - tells us false positive rate/ type 1 error,a commonly used value is 0.05.\n",
    "##### 2. Minimum detectable effect - the smaller MDE the bigger sample size needed\n",
    "##### 3. Statistical power (1-β) - probability of correctly rejecting the null hypothesis, a commonly used value is 0.8. β is the false negative rate/ type 2 eror. \n",
    "##### 4. Baseline conversion"
   ]
  },
  {
   "cell_type": "code",
   "execution_count": 71,
   "id": "2ab66d42-77cc-465f-8582-ed87371e0529",
   "metadata": {
    "tags": []
   },
   "outputs": [],
   "source": [
    "import numpy as np\n",
    "import pandas as pd\n",
    "from scipy.stats import norm\n",
    "import statsmodels.stats.api as sms\n",
    "from math import ceil"
   ]
  },
  {
   "cell_type": "code",
   "execution_count": 63,
   "id": "639cb98d-58f8-4c0d-921e-762e2c83fc87",
   "metadata": {
    "tags": []
   },
   "outputs": [
    {
     "name": "stdin",
     "output_type": "stream",
     "text": [
      "Type in the current baseline conversion?\n",
      "i.e. if it is 20%, then type in 20 \n",
      " 20\n",
      "\n",
      "Type in the minimum detectable effect you want.\n",
      "Type the relative difference,i.e. increase by 10%, then type in 10 \n",
      " 10\n"
     ]
    }
   ],
   "source": [
    "alpha=0.05\n",
    "power=0.8\n",
    "baseline = input ('Type in the current baseline conversion.\\ni.e. if it is 20%, then type in 20 \\n' )\n",
    "mde = input ('\\nType in the minimum detectable effect you want.\\nType the relative difference,i.e. increase by 10%, then type in 10 \\n')"
   ]
  },
  {
   "cell_type": "code",
   "execution_count": 81,
   "id": "f3c688d9-00c8-4cab-acd3-75a14f803c30",
   "metadata": {
    "tags": []
   },
   "outputs": [],
   "source": [
    "def calc_sample_size_prop(alpha, power, p, pct_mde):\n",
    "    \"\"\" Based on https://www.evanmiller.org/ab-testing/sample-size.html\n",
    "\n",
    "    Args:\n",
    "        alpha (float): How often are you willing to accept a Type I error (false positive)?\n",
    "        power (float): How often do you want to correctly detect a true positive (1-beta)?\n",
    "        p (float): Base conversion rate\n",
    "        pct_mde (float): Minimum detectable effect, relative to base conversion rate.\n",
    "\n",
    "    \"\"\"\n",
    "    p=float(p)/100\n",
    "    pct_mde=float(pct_mde)/100\n",
    "    delta = p*pct_mde\n",
    "    t_alpha2 = norm.ppf(1.0-alpha/2) #2-tail\n",
    "    t_beta = norm.ppf(power)\n",
    "\n",
    "    sd1 = np.sqrt(2 * p * (1.0 - p))\n",
    "    sd2 = np.sqrt(p * (1.0 - p) + (p + delta) * (1.0 - p - delta))\n",
    "\n",
    "    sample_size= (t_alpha2 * sd1 + t_beta * sd2) * (t_alpha2 * sd1 + t_beta * sd2) / (delta * delta)\n",
    "    return ceil(sample_size)\n"
   ]
  },
  {
   "cell_type": "code",
   "execution_count": 82,
   "id": "2c7fe4eb-df05-4a99-b961-4e4a2897507e",
   "metadata": {
    "tags": []
   },
   "outputs": [
    {
     "name": "stdout",
     "output_type": "stream",
     "text": [
      "Minimum sample size for each group is 6348\n"
     ]
    }
   ],
   "source": [
    "sample_size = calc_sample_size_prop(alpha,power,baseline,mde)\n",
    "print(f'Minimum sample size for each group is {sample_size}')"
   ]
  },
  {
   "cell_type": "markdown",
   "id": "ca41234d-2717-4f7a-b04b-4c97dff8e86f",
   "metadata": {},
   "source": [
    "### Sample size calculation - for Mean"
   ]
  },
  {
   "cell_type": "code",
   "execution_count": 86,
   "id": "7f5fd2dc-c3c0-4619-bf6a-16e1be98431b",
   "metadata": {},
   "outputs": [],
   "source": [
    "from math import sqrt\n",
    "from statsmodels.stats.power import tt_ind_solve_power"
   ]
  },
  {
   "cell_type": "code",
   "execution_count": 93,
   "id": "63e96393-ee98-4fcb-8412-d049325ebf10",
   "metadata": {},
   "outputs": [
    {
     "name": "stdin",
     "output_type": "stream",
     "text": [
      "Type in the mean ?\n",
      "i.e. if it is 100USD/user, then type in 100 \n",
      " 50\n",
      "Type in the variance ?\n",
      "i.e. if it is 80, then type in 80 \n",
      " 10\n",
      "\n",
      "Type in the minimum detectable effect you want.\n",
      "Type the relative difference,i.e. increase by 10%, then type in 10 \n",
      " 10\n"
     ]
    }
   ],
   "source": [
    "alpha=0.05\n",
    "power=0.8\n",
    "mean = input ('Type in the mean.\\ni.e. if it is 100USD/user, then type in 100 \\n' )\n",
    "variance = input ('Type in the variance.\\ni.e. if it is 80, then type in 80 \\n' )\n",
    "mean_mde = input ('\\nType in the minimum detectable effect you want.\\nType the relative difference,i.e. increase by 10%, then type in 10 \\n')"
   ]
  },
  {
   "cell_type": "code",
   "execution_count": 94,
   "id": "3fbb6d7a-e72e-4be5-97a8-6086bcdbdaa7",
   "metadata": {},
   "outputs": [],
   "source": [
    "def calc_sample_size_mean(alpha, power, variance, mean, mean_mde):\n",
    "    mean=float(mean)\n",
    "    variance=float(variance)\n",
    "    mean_mde=float(mean_mde)/100\n",
    "    t_alpha2 = norm.ppf(1.0-alpha/2) #2-tail\n",
    "    t_beta = norm.ppf(power)\n",
    "    delta = mean*mean_mde\n",
    "    \n",
    "    sample_size=(t_alpha2+t_beta)*(t_alpha2+t_beta)*2*variance/(delta*delta)\n",
    "    return ceil(sample_size)"
   ]
  },
  {
   "cell_type": "code",
   "execution_count": 95,
   "id": "14ca6eaf-9bfd-4942-9c6c-862b520b0eee",
   "metadata": {},
   "outputs": [
    {
     "name": "stdout",
     "output_type": "stream",
     "text": [
      "Minimum sample size for each group is 63\n"
     ]
    }
   ],
   "source": [
    "sample_size = calc_sample_size_mean(alpha, power, variance, mean, mean_mde)\n",
    "print(f'Minimum sample size for each group is {sample_size}')"
   ]
  },
  {
   "cell_type": "code",
   "execution_count": null,
   "id": "d936fcfa-45af-4b75-8f4e-16226a3249de",
   "metadata": {},
   "outputs": [],
   "source": []
  }
 ],
 "metadata": {
  "kernelspec": {
   "display_name": "Python 3 (ipykernel)",
   "language": "python",
   "name": "python3"
  },
  "language_info": {
   "codemirror_mode": {
    "name": "ipython",
    "version": 3
   },
   "file_extension": ".py",
   "mimetype": "text/x-python",
   "name": "python",
   "nbconvert_exporter": "python",
   "pygments_lexer": "ipython3",
   "version": "3.9.7"
  }
 },
 "nbformat": 4,
 "nbformat_minor": 5
}
